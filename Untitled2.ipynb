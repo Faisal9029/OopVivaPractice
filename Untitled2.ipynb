{
  "nbformat": 4,
  "nbformat_minor": 0,
  "metadata": {
    "colab": {
      "provenance": [],
      "authorship_tag": "ABX9TyOgiMR2GxwiKyTuyMkAFsdo",
      "include_colab_link": true
    },
    "kernelspec": {
      "name": "python3",
      "display_name": "Python 3"
    },
    "language_info": {
      "name": "python"
    }
  },
  "cells": [
    {
      "cell_type": "markdown",
      "metadata": {
        "id": "view-in-github",
        "colab_type": "text"
      },
      "source": [
        "<a href=\"https://colab.research.google.com/github/Faisal9029/OopVivaPractice/blob/main/Untitled2.ipynb\" target=\"_parent\"><img src=\"https://colab.research.google.com/assets/colab-badge.svg\" alt=\"Open In Colab\"/></a>"
      ]
    },
    {
      "cell_type": "markdown",
      "source": [
        "**Object-Oriented Programming (OOP) Viva**\n",
        "1.  Class & Object\n",
        "2.  Constructor\n",
        "3.  Instance & Class Variables\n",
        "4.  Encapsulation\n",
        "5.  Inheritance\n",
        "6.  Polymorphism\n",
        "7.  Method Overriding\n",
        "8.  Composition\n"
      ],
      "metadata": {
        "id": "QDH9x1KlD5A0"
      }
    },
    {
      "cell_type": "markdown",
      "source": [
        "**Practice Question 1 (Class & Object)**"
      ],
      "metadata": {
        "id": "x9Ym9-F9E4dr"
      }
    },
    {
      "cell_type": "code",
      "source": [
        "class Car:\n",
        "    def __init__(self, brand, model):\n",
        "        self.brand = brand\n",
        "        self.model = model\n",
        "\n",
        "    def display_info(self):\n",
        "        print(f\"Brand: {self.brand}, Model: {self.model}\")\n",
        "\n",
        "c1 = Car(\"Toyota\", \"Corolla\")\n",
        "c1.display_info()\n",
        "\n"
      ],
      "metadata": {
        "colab": {
          "base_uri": "https://localhost:8080/"
        },
        "id": "BJrpbSCEE8EE",
        "outputId": "4330bc56-5ea3-4237-fae4-e638a2d993ef"
      },
      "execution_count": 6,
      "outputs": [
        {
          "output_type": "stream",
          "name": "stdout",
          "text": [
            "Brand: Toyota, Model: Corolla\n"
          ]
        }
      ]
    },
    {
      "cell_type": "markdown",
      "source": [
        "**Practice Question 2 Constructor and Instance Variables**"
      ],
      "metadata": {
        "id": "sMuO7xFpFaO7"
      }
    },
    {
      "cell_type": "code",
      "source": [
        "class Book:\n",
        "    def __init__(self, title, author):\n",
        "        self.title = title\n",
        "        self.author = author\n",
        "\n",
        "    def show_details(self):\n",
        "        print(f\"Title: {self.title}, Author: {self.author}\")\n",
        "\n",
        "\n",
        "b1 = Book(\"Python Crash Course\", \"Eric Matthes\")\n",
        "b1.show_details()\n"
      ],
      "metadata": {
        "colab": {
          "base_uri": "https://localhost:8080/"
        },
        "id": "r2DyFKi8F0mo",
        "outputId": "3e313fe3-3288-40a9-bf3c-6e08b48fda0c"
      },
      "execution_count": 7,
      "outputs": [
        {
          "output_type": "stream",
          "name": "stdout",
          "text": [
            "Title: Python Crash Course, Author: Eric Matthes\n"
          ]
        }
      ]
    },
    {
      "cell_type": "markdown",
      "source": [
        "**Practice Question 3 Instance Variables vs Class Variables**"
      ],
      "metadata": {
        "id": "CF3LE_drGBD0"
      }
    },
    {
      "cell_type": "code",
      "execution_count": 5,
      "metadata": {
        "colab": {
          "base_uri": "https://localhost:8080/"
        },
        "id": "VAA58KT5_XSb",
        "outputId": "0f8eb1dc-4a67-4e5d-ffb8-e738192c4c0f"
      },
      "outputs": [
        {
          "output_type": "stream",
          "name": "stdout",
          "text": [
            "Brand: Lenovo, Model: IdeaPad, Category: Electronics\n",
            "Brand: HP, Model: Pavilion, Category: Electronics\n",
            "Brand: Dell, Model: Inspiron, Category: Electronics\n"
          ]
        }
      ],
      "source": [
        "class Laptop:\n",
        "    category = \"Electronics\"\n",
        "\n",
        "    def __init__(self, brand, model):\n",
        "        self.brand = brand\n",
        "        self.model = model\n",
        "\n",
        "    def info(self):\n",
        "        return f\"Brand: {self.brand}, Model: {self.model}, Category: {self.category}\"\n",
        "\n",
        "# Creating objects\n",
        "lenovo = Laptop(\"Lenovo\", \"IdeaPad\")\n",
        "hp = Laptop(\"HP\", \"Pavilion\")\n",
        "dell = Laptop(\"Dell\", \"Inspiron\")\n",
        "\n",
        "# Printing details\n",
        "print(lenovo.info())\n",
        "print(hp.info())\n",
        "print(dell.info())\n",
        "\n",
        "\n",
        "\n",
        "\n",
        ""
      ]
    },
    {
      "cell_type": "markdown",
      "source": [
        "**Practice Question 4 Encapsulation (Data Hiding)**"
      ],
      "metadata": {
        "id": "MuGbYnKKHhUd"
      }
    },
    {
      "cell_type": "markdown",
      "source": [
        "**1st Example**"
      ],
      "metadata": {
        "id": "4EpkmVdTIUsX"
      }
    },
    {
      "cell_type": "code",
      "source": [
        "class BankAccount:\n",
        "    def __init__(self, owner, balance):\n",
        "        self.owner = owner\n",
        "        self.__balance = balance  # private variable\n",
        "\n",
        "    def get_balance(self):\n",
        "        return f\"{self.owner} ka balance hai: {self.__balance} Rs\"\n",
        "\n",
        "    def deposit(self, amount):\n",
        "        if amount > 0:\n",
        "            self.__balance += amount\n",
        "        else:\n",
        "            print(\"Invalid amount\")\n",
        "\n",
        "    def withdraw(self, amount):\n",
        "        if amount <= self.__balance:\n",
        "            self.__balance -= amount\n",
        "        else:\n",
        "            print(\"Insufficient funds\")\n",
        "\n",
        "# Object create\n",
        "acc = BankAccount(\"Faisal\", 10000)\n",
        "\n",
        "# Usage\n",
        "print(acc.get_balance())   # ✅ Faisal ka balance hai: 10000 Rs\n",
        "acc.deposit(5000)\n",
        "print(acc.get_balance())   # ✅ Faisal ka balance hai: 15000 Rs\n",
        "acc.withdraw(2000)\n",
        "print(acc.get_balance())   # ✅ Faisal ka balance hai: 13000 Rs\n",
        "\n",
        "\n"
      ],
      "metadata": {
        "colab": {
          "base_uri": "https://localhost:8080/"
        },
        "id": "ndQkWmhLHris",
        "outputId": "d4dc9ee4-082c-4c1e-89e1-3bf0ba868abf"
      },
      "execution_count": 14,
      "outputs": [
        {
          "output_type": "stream",
          "name": "stdout",
          "text": [
            "Faisal ka balance hai: 10000 Rs\n",
            "Faisal ka balance hai: 15000 Rs\n",
            "Faisal ka balance hai: 13000 Rs\n"
          ]
        }
      ]
    },
    {
      "cell_type": "code",
      "source": [
        "class Studentrecord:\n",
        "    def __init__(self, name, grade):\n",
        "        self.name = name\n",
        "        self.__grade = grade  # private variable\n",
        "\n",
        "    def get_grade(self):\n",
        "        return f\"{self.name} grade is: {self.__grade}\"\n",
        "\n",
        "    def update_grade(self, new_grade):\n",
        "        if 0 <= new_grade <= 100:\n",
        "            self.__grade = new_grade\n",
        "        else:\n",
        "             print(f\"Invalid grade for {self.name}. Grade must be between 0 and 100.\")\n",
        "\n",
        "    def __str__(self):\n",
        "        return f\"Name: {self.name}, Grade: {self.__grade}\"\n",
        "\n",
        "seat = Studentrecord(\"Faisal\", 85)\n",
        "seat2 = Studentrecord(\"Ali\", 90)\n",
        "seat3 = Studentrecord(\"Ahmed\", 12)\n",
        "\n",
        "print(seat)  # ✅ Name: Faisal, Grade: 95\n",
        "print(seat2)  # ✅ Name: Ali, Grade: 90\n",
        "print(seat3)  # ✅ Name: Ahmed, Grade: 75\n",
        "print(seat.get_grade())  # ✅ Faisal grade is: 95\n",
        "seat.update_grade(95)\n",
        "print(seat.get_grade())  # ✅ Faisal grade is: 95\n",
        "print(seat2.get_grade())  # ✅ Ali grade is: 90\n",
        "seat2.update_grade(88)\n",
        "print(seat2.get_grade())  # ✅ Ali grade is: 88\n",
        "print(seat3.get_grade())  # ✅ Ahmed grade is: 75\n",
        "seat3.update_grade(80)\n",
        "print(seat3.get_grade())  # ✅ Ahmed grade is: 80"
      ],
      "metadata": {
        "colab": {
          "base_uri": "https://localhost:8080/"
        },
        "id": "v0VIoKm2JgLF",
        "outputId": "e7b55f81-db41-4949-f2a6-f981bfbdb293"
      },
      "execution_count": 30,
      "outputs": [
        {
          "output_type": "stream",
          "name": "stdout",
          "text": [
            "Name: Faisal, Grade: 85\n",
            "Name: Ali, Grade: 90\n",
            "Name: Ahmed, Grade: 12\n",
            "Faisal grade is: 85\n",
            "Faisal grade is: 95\n",
            "Ali grade is: 90\n",
            "Ali grade is: 88\n",
            "Ahmed grade is: 12\n",
            "Ahmed grade is: 80\n"
          ]
        }
      ]
    },
    {
      "cell_type": "code",
      "source": [],
      "metadata": {
        "id": "wsWrSqpWLgEw"
      },
      "execution_count": null,
      "outputs": []
    }
  ]
}